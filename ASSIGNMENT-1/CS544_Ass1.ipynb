{
  "nbformat": 4,
  "nbformat_minor": 0,
  "metadata": {
    "colab": {
      "name": "CS544_Ass1.ipynb",
      "provenance": [],
      "collapsed_sections": []
    },
    "kernelspec": {
      "name": "python3",
      "display_name": "Python 3"
    },
    "accelerator": "GPU"
  },
  "cells": [
    {
      "cell_type": "code",
      "metadata": {
        "id": "sNORpk9Tj1Mh",
        "colab_type": "code",
        "outputId": "67e00c11-cb21-4bea-9f71-16f57491230c",
        "colab": {
          "base_uri": "https://localhost:8080/",
          "height": 122
        }
      },
      "source": [
        "from google.colab import drive\n",
        "drive.mount('/content/drive')"
      ],
      "execution_count": 1,
      "outputs": [
        {
          "output_type": "stream",
          "text": [
            
          ],
          "name": "stdout"
        }
      ]
    },
    {
      "cell_type": "markdown",
      "metadata": {
        "id": "CkKcmhPD61DR",
        "colab_type": "text"
      },
      "source": [
        "# Importing the libraries"
      ]
    },
    {
      "cell_type": "code",
      "metadata": {
        "id": "ie2obhQIyJjp",
        "colab_type": "code",
        "outputId": "7b5c1acf-2472-4c08-f5cf-6bc3b34aa487",
        "colab": {
          "base_uri": "https://localhost:8080/",
          "height": 85
        }
      },
      "source": [
        "import json\n",
        "import pandas as pd\n",
        "import matplotlib.pyplot as plt\n",
        "import numpy as np\n",
        "import networkx as nx\n",
        "from scipy import stats\n",
        "import operator\n",
        "#Import nltk to check english lexicon\n",
        "import nltk\n",
        "nltk.download('stopwords')\n",
        "from nltk.tokenize import word_tokenize\n",
        "from nltk.corpus import (\n",
        "    wordnet,\n",
        "    stopwords\n",
        ")\n",
        "\n",
        "import spacy.cli\n",
        "spacy.cli.download(\"en_core_web_md\")\n",
        "import spacy\n",
        "nlp = spacy.load('en_core_web_md')"
      ],
      "execution_count": 2,
      "outputs": [
        {
          "output_type": "stream",
          "text": [
            "[nltk_data] Downloading package stopwords to /root/nltk_data...\n",
            "[nltk_data]   Unzipping corpora/stopwords.zip.\n",
            "\u001b[38;5;2m✔ Download and installation successful\u001b[0m\n",
            "You can now load the model via spacy.load('en_core_web_md')\n"
          ],
          "name": "stdout"
        }
      ]
    },
    {
      "cell_type": "code",
      "metadata": {
        "id": "zPonddakkBo3",
        "colab_type": "code",
        "colab": {}
      },
      "source": [
        "# import json\n",
        "# # input_file=open('drive/My Drive/CS544/nepal-quake-2015-tweets.jsonl', 'r')\n",
        "# # json_decode=json.load(input_file)\n",
        "# with open('drive/My Drive/CS544/nepal-quake-2015-tweets.jsonl','r') as f:\n",
        "#     json_decode = json.load(f)\n",
        "# result = []\n",
        "# for item in json_decode:\n",
        "#     my_dict={}\n",
        "#     my_dict['id']=item.get('id')\n",
        "#     my_dict['text']=item.get('text')\n",
        "#     my_dict['retweet']=item.get('retweeted')\n",
        "#     my_dict['created_at']=item.get('created_at')\n",
        "    \n",
        "#     result.append(my_dict)\n",
        "# print(result[:5])"
      ],
      "execution_count": 0,
      "outputs": []
    },
    {
      "cell_type": "markdown",
      "metadata": {
        "id": "bZ34hhOQ8FWX",
        "colab_type": "text"
      },
      "source": [
        "# Data Extraction"
      ]
    },
    {
      "cell_type": "code",
      "metadata": {
        "id": "AQU4Ws9qkYFv",
        "colab_type": "code",
        "colab": {}
      },
      "source": [
        "tweets_data_path = 'drive/My Drive/CS544/nepal-quake-2015-tweets.jsonl'\n",
        "\n",
        "tweets_data = []\n",
        "tweets_file = open(tweets_data_path, \"r\")\n",
        "for line in tweets_file:\n",
        "    try:\n",
        "        tweet = json.loads(line)\n",
        "        tweets_data.append(tweet)\n",
        "    except:\n",
        "        continue"
      ],
      "execution_count": 0,
      "outputs": []
    },
    {
      "cell_type": "code",
      "metadata": {
        "id": "TB3yGNEDyaRd",
        "colab_type": "code",
        "outputId": "52a22838-924f-4a1f-f876-82d9cb21f4fa",
        "colab": {
          "base_uri": "https://localhost:8080/",
          "height": 71
        }
      },
      "source": [
        "print(len(tweets_data))\n",
        "print(tweets_data[0])"
      ],
      "execution_count": 14,
      "outputs": [
        {
          "output_type": "stream",
          "text": [
            "50068\n",
            "{'contributors': None, 'truncated': False, 'text': 'RT @Economynext: #SriLanka to fly emergency medical help, food to #earthquake -struck #Nepal #lka #Economynext http://t.co/t6F2RXD4tj http:…', 'is_quote_status': False, 'in_reply_to_status_id': None, 'id': 591974898139987968, 'favorite_count': 0, 'source': '<a href=\"http://twitter.com/download/iphone\" rel=\"nofollow\">Twitter for iPhone</a>', 'retweeted': False, 'coordinates': None, 'entities': {'symbols': [], 'user_mentions': [{'id': 2911405998, 'indices': [3, 15], 'id_str': '2911405998', 'screen_name': 'Economynext', 'name': 'EconomyNext'}], 'hashtags': [{'indices': [17, 26], 'text': 'SriLanka'}, {'indices': [66, 77], 'text': 'earthquake'}, {'indices': [86, 92], 'text': 'Nepal'}, {'indices': [93, 97], 'text': 'lka'}, {'indices': [98, 110], 'text': 'Economynext'}], 'urls': [{'url': 'http://t.co/t6F2RXD4tj', 'indices': [111, 133], 'expanded_url': 'http://www.economynext.com/Sri_Lanka_to_fly_emergency_medical_help,_food_to_earthquake_struck_Nepal-3-1625-13.html#.VTuVs40kI4o.twitter', 'display_url': 'economynext.com/Sri_Lanka_to_f…'}], 'media': [{'source_user_id': 2911405998, 'source_status_id_str': '591956338080485377', 'expanded_url': 'http://twitter.com/Economynext/status/591956338080485377/photo/1', 'display_url': 'pic.twitter.com/WMCykXRac0', 'url': 'http://t.co/WMCykXRac0', 'media_url_https': 'https://pbs.twimg.com/media/CDcNJteVIAApKvJ.jpg', 'source_user_id_str': '2911405998', 'source_status_id': 591956338080485377, 'id_str': '591956336499302400', 'sizes': {'large': {'h': 383, 'resize': 'fit', 'w': 680}, 'small': {'h': 192, 'resize': 'fit', 'w': 340}, 'medium': {'h': 338, 'resize': 'fit', 'w': 600}, 'thumb': {'h': 150, 'resize': 'crop', 'w': 150}}, 'indices': [139, 140], 'type': 'photo', 'id': 591956336499302400, 'media_url': 'http://pbs.twimg.com/media/CDcNJteVIAApKvJ.jpg'}]}, 'in_reply_to_screen_name': None, 'in_reply_to_user_id': None, 'retweet_count': 8, 'id_str': '591974898139987968', 'favorited': False, 'retweeted_status': {'contributors': None, 'truncated': False, 'text': '#SriLanka to fly emergency medical help, food to #earthquake -struck #Nepal #lka #Economynext http://t.co/t6F2RXD4tj http://t.co/WMCykXRac0', 'is_quote_status': False, 'in_reply_to_status_id': None, 'id': 591956338080485377, 'favorite_count': 0, 'source': '<a href=\"http://twitter.com\" rel=\"nofollow\">Twitter Web Client</a>', 'retweeted': False, 'coordinates': None, 'entities': {'symbols': [], 'user_mentions': [], 'hashtags': [{'indices': [0, 9], 'text': 'SriLanka'}, {'indices': [49, 60], 'text': 'earthquake'}, {'indices': [69, 75], 'text': 'Nepal'}, {'indices': [76, 80], 'text': 'lka'}, {'indices': [81, 93], 'text': 'Economynext'}], 'urls': [{'url': 'http://t.co/t6F2RXD4tj', 'indices': [94, 116], 'expanded_url': 'http://www.economynext.com/Sri_Lanka_to_fly_emergency_medical_help,_food_to_earthquake_struck_Nepal-3-1625-13.html#.VTuVs40kI4o.twitter', 'display_url': 'economynext.com/Sri_Lanka_to_f…'}], 'media': [{'expanded_url': 'http://twitter.com/Economynext/status/591956338080485377/photo/1', 'display_url': 'pic.twitter.com/WMCykXRac0', 'url': 'http://t.co/WMCykXRac0', 'media_url_https': 'https://pbs.twimg.com/media/CDcNJteVIAApKvJ.jpg', 'id_str': '591956336499302400', 'sizes': {'large': {'h': 383, 'resize': 'fit', 'w': 680}, 'small': {'h': 192, 'resize': 'fit', 'w': 340}, 'medium': {'h': 338, 'resize': 'fit', 'w': 600}, 'thumb': {'h': 150, 'resize': 'crop', 'w': 150}}, 'indices': [117, 139], 'type': 'photo', 'id': 591956336499302400, 'media_url': 'http://pbs.twimg.com/media/CDcNJteVIAApKvJ.jpg'}]}, 'in_reply_to_screen_name': None, 'in_reply_to_user_id': None, 'retweet_count': 8, 'id_str': '591956338080485377', 'favorited': False, 'user': {'follow_request_sent': False, 'has_extended_profile': False, 'profile_use_background_image': False, 'default_profile_image': False, 'id': 2911405998, 'profile_background_image_url_https': 'https://abs.twimg.com/images/themes/theme1/bg.png', 'verified': False, 'profile_text_color': '000000', 'profile_image_url_https': 'https://pbs.twimg.com/profile_images/550602663427989504/7fh0v6kT_normal.png', 'profile_sidebar_fill_color': '000000', 'entities': {'url': {'urls': [{'url': 'http://t.co/BKyyMyECbb', 'indices': [0, 22], 'expanded_url': 'http://www.economynext.com', 'display_url': 'economynext.com'}]}, 'description': {'urls': []}}, 'followers_count': 822, 'profile_sidebar_border_color': '000000', 'id_str': '2911405998', 'profile_background_color': '000000', 'listed_count': 23, 'is_translation_enabled': False, 'utc_offset': None, 'statuses_count': 2143, 'description': 'Sri Lanka finance, business news and economic analysis.', 'friends_count': 290, 'location': '', 'profile_link_color': '075286', 'profile_image_url': 'http://pbs.twimg.com/profile_images/550602663427989504/7fh0v6kT_normal.png', 'following': False, 'geo_enabled': True, 'profile_background_image_url': 'http://abs.twimg.com/images/themes/theme1/bg.png', 'screen_name': 'Economynext', 'lang': 'en', 'profile_background_tile': False, 'favourites_count': 2, 'name': 'EconomyNext', 'notifications': False, 'url': 'http://t.co/BKyyMyECbb', 'created_at': 'Thu Nov 27 02:22:44 +0000 2014', 'contributors_enabled': False, 'time_zone': None, 'protected': False, 'default_profile': False, 'is_translator': False}, 'geo': None, 'in_reply_to_user_id_str': None, 'possibly_sensitive': False, 'lang': 'en', 'created_at': 'Sat Apr 25 13:26:03 +0000 2015', 'in_reply_to_status_id_str': None, 'place': None, 'extended_entities': {'media': [{'expanded_url': 'http://twitter.com/Economynext/status/591956338080485377/photo/1', 'display_url': 'pic.twitter.com/WMCykXRac0', 'url': 'http://t.co/WMCykXRac0', 'media_url_https': 'https://pbs.twimg.com/media/CDcNJteVIAApKvJ.jpg', 'id_str': '591956336499302400', 'sizes': {'large': {'h': 383, 'resize': 'fit', 'w': 680}, 'small': {'h': 192, 'resize': 'fit', 'w': 340}, 'medium': {'h': 338, 'resize': 'fit', 'w': 600}, 'thumb': {'h': 150, 'resize': 'crop', 'w': 150}}, 'indices': [117, 139], 'type': 'photo', 'id': 591956336499302400, 'media_url': 'http://pbs.twimg.com/media/CDcNJteVIAApKvJ.jpg'}]}}, 'user': {'follow_request_sent': False, 'has_extended_profile': False, 'profile_use_background_image': True, 'default_profile_image': False, 'id': 53854870, 'profile_background_image_url_https': 'https://abs.twimg.com/images/themes/theme12/bg.gif', 'verified': False, 'profile_text_color': '0C3E53', 'profile_image_url_https': 'https://pbs.twimg.com/profile_images/1119365809/FB_profile_1_normal.JPG', 'profile_sidebar_fill_color': 'FFF7CC', 'entities': {'description': {'urls': [{'url': 'http://t.co/mLUmsKPLrH', 'indices': [96, 118], 'expanded_url': 'http://www.youtube.com/watch?v=WZPluQ5-3Jc', 'display_url': 'youtube.com/watch?v=WZPluQ…'}]}}, 'followers_count': 1425, 'profile_sidebar_border_color': 'F2E195', 'id_str': '53854870', 'profile_background_color': 'BADFCD', 'listed_count': 59, 'is_translation_enabled': False, 'utc_offset': 19800, 'statuses_count': 33744, 'description': 'All tweets Personal. RTs not endorsement. My theme song, courtesy of Gypsies....go ahead..click http://t.co/mLUmsKPLrH', 'friends_count': 406, 'location': '', 'profile_link_color': 'FF0000', 'profile_image_url': 'http://pbs.twimg.com/profile_images/1119365809/FB_profile_1_normal.JPG', 'following': False, 'geo_enabled': False, 'profile_banner_url': 'https://pbs.twimg.com/profile_banners/53854870/1354742856', 'profile_background_image_url': 'http://abs.twimg.com/images/themes/theme12/bg.gif', 'screen_name': 'Apelankawe', 'lang': 'en', 'profile_background_tile': False, 'favourites_count': 1191, 'name': 'Vidura', 'notifications': False, 'url': None, 'created_at': 'Sun Jul 05 06:37:23 +0000 2009', 'contributors_enabled': False, 'time_zone': 'New Delhi', 'protected': False, 'default_profile': False, 'is_translator': False}, 'geo': None, 'in_reply_to_user_id_str': None, 'possibly_sensitive': False, 'lang': 'en', 'created_at': 'Sat Apr 25 14:39:48 +0000 2015', 'in_reply_to_status_id_str': None, 'place': None, 'extended_entities': {'media': [{'source_user_id': 2911405998, 'source_status_id_str': '591956338080485377', 'expanded_url': 'http://twitter.com/Economynext/status/591956338080485377/photo/1', 'display_url': 'pic.twitter.com/WMCykXRac0', 'url': 'http://t.co/WMCykXRac0', 'media_url_https': 'https://pbs.twimg.com/media/CDcNJteVIAApKvJ.jpg', 'source_user_id_str': '2911405998', 'source_status_id': 591956338080485377, 'id_str': '591956336499302400', 'sizes': {'large': {'h': 383, 'resize': 'fit', 'w': 680}, 'small': {'h': 192, 'resize': 'fit', 'w': 340}, 'medium': {'h': 338, 'resize': 'fit', 'w': 600}, 'thumb': {'h': 150, 'resize': 'crop', 'w': 150}}, 'indices': [139, 140], 'type': 'photo', 'id': 591956336499302400, 'media_url': 'http://pbs.twimg.com/media/CDcNJteVIAApKvJ.jpg'}]}}\n"
          ],
          "name": "stdout"
        }
      ]
    },
    {
      "cell_type": "code",
      "metadata": {
        "id": "rCuHtoY5ykym",
        "colab_type": "code",
        "colab": {}
      },
      "source": [
        "tweets = pd.DataFrame()\n",
        "tweets['text'] = list(map(lambda tweet: tweet['text'], tweets_data))\n",
        "tweets['id'] = list(map(lambda tweet: tweet['id_str'], tweets_data))\n",
        "# tweets['retweet'] = map(lambda tweet: tweet['retweeted'], tweets_data)\n",
        "# tweets['created_at'] = map(lambda tweet: tweet['created_at'], tweets_data)\n",
        "tweets['Timestamp'] =  list(map(lambda tweet: tweet['created_at'], tweets_data))\n",
        "tweets['reply_id'] = list(map(lambda tweet: tweet['in_reply_to_status_id_str'], tweets_data))\n",
        "\n",
        "#Create a function to see if the tweet is a retweet\n",
        "def is_RT(tweet):\n",
        "    if 'retweeted_status' not in tweet:\n",
        "        return None      \n",
        "    else:\n",
        "        return tweet['retweeted_status']['id_str']\n",
        "    \n",
        "tweets['retweet_id'] = list(map(is_RT, tweets_data))"
      ],
      "execution_count": 0,
      "outputs": []
    },
    {
      "cell_type": "code",
      "metadata": {
        "id": "etMb8ZqYoP0B",
        "colab_type": "code",
        "outputId": "c4f58bdb-a9b9-4630-e3cc-43cbd22d380d",
        "colab": {
          "base_uri": "https://localhost:8080/",
          "height": 221
        }
      },
      "source": [
        "print(tweets.dtypes)\n",
        "tweets['Timestamp'] =  pd.to_datetime(tweets['Timestamp'])\n",
        "print(tweets.dtypes)\n",
        "# tweets.sort_values(by='Timestamp', inplace=True)"
      ],
      "execution_count": 16,
      "outputs": [
        {
          "output_type": "stream",
          "text": [
            "text          object\n",
            "id            object\n",
            "Timestamp     object\n",
            "reply_id      object\n",
            "retweet_id    object\n",
            "dtype: object\n",
            "text                       object\n",
            "id                         object\n",
            "Timestamp     datetime64[ns, UTC]\n",
            "reply_id                   object\n",
            "retweet_id                 object\n",
            "dtype: object\n"
          ],
          "name": "stdout"
        }
      ]
    },
    {
      "cell_type": "code",
      "metadata": {
        "id": "xzmCff6baCrl",
        "colab_type": "code",
        "outputId": "2ec1d48f-608a-4b9c-dde1-1d4c13453160",
        "colab": {
          "base_uri": "https://localhost:8080/",
          "height": 1000
        }
      },
      "source": [
        "tweets = tweets[:1000]\n",
        "tweets"
      ],
      "execution_count": 17,
      "outputs": [
        {
          "output_type": "execute_result",
          "data": {
            "text/html": [
              "<div>\n",
              "<style scoped>\n",
              "    .dataframe tbody tr th:only-of-type {\n",
              "        vertical-align: middle;\n",
              "    }\n",
              "\n",
              "    .dataframe tbody tr th {\n",
              "        vertical-align: top;\n",
              "    }\n",
              "\n",
              "    .dataframe thead th {\n",
              "        text-align: right;\n",
              "    }\n",
              "</style>\n",
              "<table border=\"1\" class=\"dataframe\">\n",
              "  <thead>\n",
              "    <tr style=\"text-align: right;\">\n",
              "      <th></th>\n",
              "      <th>text</th>\n",
              "      <th>id</th>\n",
              "      <th>Timestamp</th>\n",
              "      <th>reply_id</th>\n",
              "      <th>retweet_id</th>\n",
              "    </tr>\n",
              "  </thead>\n",
              "  <tbody>\n",
              "    <tr>\n",
              "      <th>0</th>\n",
              "      <td>RT @Economynext: #SriLanka to fly emergency me...</td>\n",
              "      <td>591974898139987968</td>\n",
              "      <td>2015-04-25 14:39:48+00:00</td>\n",
              "      <td>None</td>\n",
              "      <td>591956338080485377</td>\n",
              "    </tr>\n",
              "    <tr>\n",
              "      <th>1</th>\n",
              "      <td>India committed in aid to Nepal: President Pra...</td>\n",
              "      <td>591979323164233729</td>\n",
              "      <td>2015-04-25 14:57:23+00:00</td>\n",
              "      <td>None</td>\n",
              "      <td>None</td>\n",
              "    </tr>\n",
              "    <tr>\n",
              "      <th>2</th>\n",
              "      <td>RT @Thekkapoor: @narendramodi List of Doctor a...</td>\n",
              "      <td>591984387526234112</td>\n",
              "      <td>2015-04-25 15:17:31+00:00</td>\n",
              "      <td>None</td>\n",
              "      <td>591908885553762304</td>\n",
              "    </tr>\n",
              "    <tr>\n",
              "      <th>3</th>\n",
              "      <td>Quake wake-up call for govt, need better build...</td>\n",
              "      <td>591984010714157056</td>\n",
              "      <td>2015-04-25 15:16:01+00:00</td>\n",
              "      <td>None</td>\n",
              "      <td>None</td>\n",
              "    </tr>\n",
              "    <tr>\n",
              "      <th>4</th>\n",
              "      <td>#NepalEarthquake India sends 39 #NDRF team, 2 ...</td>\n",
              "      <td>591974595525128195</td>\n",
              "      <td>2015-04-25 14:38:36+00:00</td>\n",
              "      <td>None</td>\n",
              "      <td>None</td>\n",
              "    </tr>\n",
              "    <tr>\n",
              "      <th>5</th>\n",
              "      <td>\"@PMOIndia_RC: Indian Government is doing ever...</td>\n",
              "      <td>591983032208232448</td>\n",
              "      <td>2015-04-25 15:12:08+00:00</td>\n",
              "      <td>None</td>\n",
              "      <td>None</td>\n",
              "    </tr>\n",
              "    <tr>\n",
              "      <th>6</th>\n",
              "      <td>RT @ANI_news: We have to play a leading role t...</td>\n",
              "      <td>591979178733408256</td>\n",
              "      <td>2015-04-25 14:56:49+00:00</td>\n",
              "      <td>None</td>\n",
              "      <td>591903440067891200</td>\n",
              "    </tr>\n",
              "    <tr>\n",
              "      <th>7</th>\n",
              "      <td>RT @UNFPAasia: As emergency services step up i...</td>\n",
              "      <td>591986773212856321</td>\n",
              "      <td>2015-04-25 15:26:59+00:00</td>\n",
              "      <td>None</td>\n",
              "      <td>591908722516983809</td>\n",
              "    </tr>\n",
              "    <tr>\n",
              "      <th>8</th>\n",
              "      <td>1L water bottle by railways\\nLocal rates from ...</td>\n",
              "      <td>591976562515316736</td>\n",
              "      <td>2015-04-25 14:46:25+00:00</td>\n",
              "      <td>None</td>\n",
              "      <td>None</td>\n",
              "    </tr>\n",
              "    <tr>\n",
              "      <th>9</th>\n",
              "      <td>RT @BJPLucknowBJP: Agra Medical College Buildi...</td>\n",
              "      <td>591977226586836992</td>\n",
              "      <td>2015-04-25 14:49:03+00:00</td>\n",
              "      <td>None</td>\n",
              "      <td>591970480967430144</td>\n",
              "    </tr>\n",
              "    <tr>\n",
              "      <th>10</th>\n",
              "      <td>RT @iamamkay: need all out support @nytimes: N...</td>\n",
              "      <td>591977175768698881</td>\n",
              "      <td>2015-04-25 14:48:51+00:00</td>\n",
              "      <td>None</td>\n",
              "      <td>591976140090134531</td>\n",
              "    </tr>\n",
              "    <tr>\n",
              "      <th>11</th>\n",
              "      <td>RT @ WSJIndia: What India is doing to help Nep...</td>\n",
              "      <td>591981776794296321</td>\n",
              "      <td>2015-04-25 15:07:08+00:00</td>\n",
              "      <td>None</td>\n",
              "      <td>None</td>\n",
              "    </tr>\n",
              "    <tr>\n",
              "      <th>12</th>\n",
              "      <td>·         Hospital, Fire Brigade and Blood Ban...</td>\n",
              "      <td>591978159102435328</td>\n",
              "      <td>2015-04-25 14:52:46+00:00</td>\n",
              "      <td>None</td>\n",
              "      <td>None</td>\n",
              "    </tr>\n",
              "    <tr>\n",
              "      <th>13</th>\n",
              "      <td>Nepal earthquake is sad for world. Hope medica...</td>\n",
              "      <td>591978089241948160</td>\n",
              "      <td>2015-04-25 14:52:29+00:00</td>\n",
              "      <td>None</td>\n",
              "      <td>None</td>\n",
              "    </tr>\n",
              "    <tr>\n",
              "      <th>14</th>\n",
              "      <td>RT @acharya14: Plz donate blood to Nearest #Re...</td>\n",
              "      <td>591982590137098240</td>\n",
              "      <td>2015-04-25 15:10:22+00:00</td>\n",
              "      <td>None</td>\n",
              "      <td>591896695761346560</td>\n",
              "    </tr>\n",
              "    <tr>\n",
              "      <th>15</th>\n",
              "      <td>Conspicuous silence of  #Presstitutes @sardesa...</td>\n",
              "      <td>591975696924221441</td>\n",
              "      <td>2015-04-25 14:42:59+00:00</td>\n",
              "      <td>None</td>\n",
              "      <td>None</td>\n",
              "    </tr>\n",
              "    <tr>\n",
              "      <th>16</th>\n",
              "      <td>RT @MaizaHameed: #Pakistan is with our #Nepali...</td>\n",
              "      <td>591979429674356736</td>\n",
              "      <td>2015-04-25 14:57:49+00:00</td>\n",
              "      <td>None</td>\n",
              "      <td>591952614645833729</td>\n",
              "    </tr>\n",
              "    <tr>\n",
              "      <th>17</th>\n",
              "      <td>RT @Abbi_Casey: If you want to help w #Nepal #...</td>\n",
              "      <td>591976009823428608</td>\n",
              "      <td>2015-04-25 14:44:13+00:00</td>\n",
              "      <td>None</td>\n",
              "      <td>591902049937301504</td>\n",
              "    </tr>\n",
              "    <tr>\n",
              "      <th>18</th>\n",
              "      <td>RT @TheQuint: PM Modi orders immediate dispatc...</td>\n",
              "      <td>591986194893901824</td>\n",
              "      <td>2015-04-25 15:24:42+00:00</td>\n",
              "      <td>None</td>\n",
              "      <td>591921109664018432</td>\n",
              "    </tr>\n",
              "    <tr>\n",
              "      <th>19</th>\n",
              "      <td>\"Ramdev's pandal collapses in Nepal. \"\\n\\nHe's...</td>\n",
              "      <td>591978070690508801</td>\n",
              "      <td>2015-04-25 14:52:25+00:00</td>\n",
              "      <td>None</td>\n",
              "      <td>None</td>\n",
              "    </tr>\n",
              "    <tr>\n",
              "      <th>20</th>\n",
              "      <td>Near by Student's should Stand and help to nep...</td>\n",
              "      <td>591982468556722176</td>\n",
              "      <td>2015-04-25 15:09:53+00:00</td>\n",
              "      <td>None</td>\n",
              "      <td>None</td>\n",
              "    </tr>\n",
              "    <tr>\n",
              "      <th>21</th>\n",
              "      <td>RT @dillidikudii: Whoever is in Delhi. Go dona...</td>\n",
              "      <td>591981330839130112</td>\n",
              "      <td>2015-04-25 15:05:22+00:00</td>\n",
              "      <td>None</td>\n",
              "      <td>591872434795520000</td>\n",
              "    </tr>\n",
              "    <tr>\n",
              "      <th>22</th>\n",
              "      <td>RT @tw_bhav: @suresh_ediga pl help. need names...</td>\n",
              "      <td>591979270777372672</td>\n",
              "      <td>2015-04-25 14:57:11+00:00</td>\n",
              "      <td>None</td>\n",
              "      <td>591974951357255682</td>\n",
              "    </tr>\n",
              "    <tr>\n",
              "      <th>23</th>\n",
              "      <td>RT @ShiwaniNeupane: The parking lot of Kathman...</td>\n",
              "      <td>591981970113990656</td>\n",
              "      <td>2015-04-25 15:07:54+00:00</td>\n",
              "      <td>None</td>\n",
              "      <td>591951130520735744</td>\n",
              "    </tr>\n",
              "    <tr>\n",
              "      <th>24</th>\n",
              "      <td>@BBCWorld @PlanGlobal Isn't this image one fro...</td>\n",
              "      <td>591979172378972160</td>\n",
              "      <td>2015-04-25 14:56:47+00:00</td>\n",
              "      <td>591973583519354880</td>\n",
              "      <td>None</td>\n",
              "    </tr>\n",
              "    <tr>\n",
              "      <th>25</th>\n",
              "      <td>More than 1000 died in Nepal due to Earthquake...</td>\n",
              "      <td>591979280277581824</td>\n",
              "      <td>2015-04-25 14:57:13+00:00</td>\n",
              "      <td>None</td>\n",
              "      <td>None</td>\n",
              "    </tr>\n",
              "    <tr>\n",
              "      <th>26</th>\n",
              "      <td>Somewhere I sense an #AdarshLiberal will have ...</td>\n",
              "      <td>591977346879500288</td>\n",
              "      <td>2015-04-25 14:49:32+00:00</td>\n",
              "      <td>None</td>\n",
              "      <td>None</td>\n",
              "    </tr>\n",
              "    <tr>\n",
              "      <th>27</th>\n",
              "      <td>We need more help I call all BJP ally organisa...</td>\n",
              "      <td>591985394851287040</td>\n",
              "      <td>2015-04-25 15:21:31+00:00</td>\n",
              "      <td>None</td>\n",
              "      <td>None</td>\n",
              "    </tr>\n",
              "    <tr>\n",
              "      <th>28</th>\n",
              "      <td>@UNDPNepal Need to contact #Nepal to send relief.</td>\n",
              "      <td>591981970156036096</td>\n",
              "      <td>2015-04-25 15:07:54+00:00</td>\n",
              "      <td>None</td>\n",
              "      <td>None</td>\n",
              "    </tr>\n",
              "    <tr>\n",
              "      <th>29</th>\n",
              "      <td>It seems, almost entire Indian machinery frm p...</td>\n",
              "      <td>591985891591069696</td>\n",
              "      <td>2015-04-25 15:23:29+00:00</td>\n",
              "      <td>None</td>\n",
              "      <td>None</td>\n",
              "    </tr>\n",
              "    <tr>\n",
              "      <th>...</th>\n",
              "      <td>...</td>\n",
              "      <td>...</td>\n",
              "      <td>...</td>\n",
              "      <td>...</td>\n",
              "      <td>...</td>\n",
              "    </tr>\n",
              "    <tr>\n",
              "      <th>970</th>\n",
              "      <td>Drinking water plus emergency relief supplies ...</td>\n",
              "      <td>592196353381388289</td>\n",
              "      <td>2015-04-26 05:19:47+00:00</td>\n",
              "      <td>None</td>\n",
              "      <td>None</td>\n",
              "    </tr>\n",
              "    <tr>\n",
              "      <th>971</th>\n",
              "      <td>@cvoter Talking of vibration-shaking of swimmi...</td>\n",
              "      <td>592197420806582272</td>\n",
              "      <td>2015-04-26 05:24:02+00:00</td>\n",
              "      <td>592196099974246400</td>\n",
              "      <td>None</td>\n",
              "    </tr>\n",
              "    <tr>\n",
              "      <th>972</th>\n",
              "      <td>India sends 'Rail Neer' water to earthquake-hi...</td>\n",
              "      <td>592195341455233024</td>\n",
              "      <td>2015-04-26 05:15:46+00:00</td>\n",
              "      <td>None</td>\n",
              "      <td>None</td>\n",
              "    </tr>\n",
              "    <tr>\n",
              "      <th>973</th>\n",
              "      <td>RT @allsish: outside Manipal Teaching Hospital...</td>\n",
              "      <td>592190391283126272</td>\n",
              "      <td>2015-04-26 04:56:06+00:00</td>\n",
              "      <td>None</td>\n",
              "      <td>592140829747064832</td>\n",
              "    </tr>\n",
              "    <tr>\n",
              "      <th>974</th>\n",
              "      <td>Use these tool to check your friends are safe ...</td>\n",
              "      <td>592187571909726208</td>\n",
              "      <td>2015-04-26 04:44:54+00:00</td>\n",
              "      <td>None</td>\n",
              "      <td>None</td>\n",
              "    </tr>\n",
              "    <tr>\n",
              "      <th>975</th>\n",
              "      <td>RT @ppariyar: i really appreciate and salute f...</td>\n",
              "      <td>592193862031933441</td>\n",
              "      <td>2015-04-26 05:09:53+00:00</td>\n",
              "      <td>None</td>\n",
              "      <td>592048287689015297</td>\n",
              "    </tr>\n",
              "    <tr>\n",
              "      <th>976</th>\n",
              "      <td>Scene at a govt hospital in Kanpur during #ear...</td>\n",
              "      <td>592195958802292736</td>\n",
              "      <td>2015-04-26 05:18:13+00:00</td>\n",
              "      <td>None</td>\n",
              "      <td>None</td>\n",
              "    </tr>\n",
              "    <tr>\n",
              "      <th>977</th>\n",
              "      <td>RT @gefairclough: After Nepal quake, injured e...</td>\n",
              "      <td>592191174439374849</td>\n",
              "      <td>2015-04-26 04:59:13+00:00</td>\n",
              "      <td>None</td>\n",
              "      <td>592190592567812096</td>\n",
              "    </tr>\n",
              "    <tr>\n",
              "      <th>978</th>\n",
              "      <td>#Nepal : glad to hear from more friends in #Ka...</td>\n",
              "      <td>592189847936180225</td>\n",
              "      <td>2015-04-26 04:53:56+00:00</td>\n",
              "      <td>None</td>\n",
              "      <td>None</td>\n",
              "    </tr>\n",
              "    <tr>\n",
              "      <th>979</th>\n",
              "      <td>Congratulatins to everyone at @MEAIndia!! Bril...</td>\n",
              "      <td>592196452819972097</td>\n",
              "      <td>2015-04-26 05:20:11+00:00</td>\n",
              "      <td>None</td>\n",
              "      <td>None</td>\n",
              "    </tr>\n",
              "    <tr>\n",
              "      <th>980</th>\n",
              "      <td>RT @Nawasilwal: Experience shows, Nepal need t...</td>\n",
              "      <td>592187941826351105</td>\n",
              "      <td>2015-04-26 04:46:22+00:00</td>\n",
              "      <td>None</td>\n",
              "      <td>592184347882496001</td>\n",
              "    </tr>\n",
              "    <tr>\n",
              "      <th>981</th>\n",
              "      <td>International rescuers, aid dispatched to Nepa...</td>\n",
              "      <td>592193871896969217</td>\n",
              "      <td>2015-04-26 05:09:56+00:00</td>\n",
              "      <td>None</td>\n",
              "      <td>None</td>\n",
              "    </tr>\n",
              "    <tr>\n",
              "      <th>982</th>\n",
              "      <td>@mashable please support and help Nepal in wha...</td>\n",
              "      <td>592193696700870656</td>\n",
              "      <td>2015-04-26 05:09:14+00:00</td>\n",
              "      <td>592086649129017344</td>\n",
              "      <td>None</td>\n",
              "    </tr>\n",
              "    <tr>\n",
              "      <th>983</th>\n",
              "      <td>#indianarmy names aid mission in Nepal as \"Ope...</td>\n",
              "      <td>592189878181502976</td>\n",
              "      <td>2015-04-26 04:54:03+00:00</td>\n",
              "      <td>None</td>\n",
              "      <td>None</td>\n",
              "    </tr>\n",
              "    <tr>\n",
              "      <th>984</th>\n",
              "      <td>Thankful to\\n Massive help.....\\n\\nAustralian ...</td>\n",
              "      <td>592187179570331649</td>\n",
              "      <td>2015-04-26 04:43:20+00:00</td>\n",
              "      <td>None</td>\n",
              "      <td>None</td>\n",
              "    </tr>\n",
              "    <tr>\n",
              "      <th>985</th>\n",
              "      <td>@narendramodi @SushmaSwaraj Media,NGO who ever...</td>\n",
              "      <td>592194906250084355</td>\n",
              "      <td>2015-04-26 05:14:02+00:00</td>\n",
              "      <td>None</td>\n",
              "      <td>None</td>\n",
              "    </tr>\n",
              "    <tr>\n",
              "      <th>986</th>\n",
              "      <td>India's Aid to Nepal Named 'Operation Maitri' ...</td>\n",
              "      <td>592186589075382272</td>\n",
              "      <td>2015-04-26 04:40:59+00:00</td>\n",
              "      <td>None</td>\n",
              "      <td>None</td>\n",
              "    </tr>\n",
              "    <tr>\n",
              "      <th>987</th>\n",
              "      <td>International aid groups rush to reach Nepal e...</td>\n",
              "      <td>592199197446770689</td>\n",
              "      <td>2015-04-26 05:31:05+00:00</td>\n",
              "      <td>None</td>\n",
              "      <td>None</td>\n",
              "    </tr>\n",
              "    <tr>\n",
              "      <th>988</th>\n",
              "      <td>Delhi Sikh Gurdwara body to send Langar (food)...</td>\n",
              "      <td>592196446797090816</td>\n",
              "      <td>2015-04-26 05:20:10+00:00</td>\n",
              "      <td>None</td>\n",
              "      <td>None</td>\n",
              "    </tr>\n",
              "    <tr>\n",
              "      <th>989</th>\n",
              "      <td>RT MEAIndia: Earlier today: relief materials a...</td>\n",
              "      <td>592198032810123264</td>\n",
              "      <td>2015-04-26 05:26:28+00:00</td>\n",
              "      <td>None</td>\n",
              "      <td>None</td>\n",
              "    </tr>\n",
              "    <tr>\n",
              "      <th>990</th>\n",
              "      <td>RT @joglekarsachin: @SushmaSwaraj @MEAIndia ne...</td>\n",
              "      <td>592188709706993665</td>\n",
              "      <td>2015-04-26 04:49:25+00:00</td>\n",
              "      <td>None</td>\n",
              "      <td>592181126635991040</td>\n",
              "    </tr>\n",
              "    <tr>\n",
              "      <th>991</th>\n",
              "      <td>We need to know the situation in remote outlyi...</td>\n",
              "      <td>592201663768694784</td>\n",
              "      <td>2015-04-26 05:40:53+00:00</td>\n",
              "      <td>None</td>\n",
              "      <td>None</td>\n",
              "    </tr>\n",
              "    <tr>\n",
              "      <th>992</th>\n",
              "      <td>our Farmers need just Compensation; but surviv...</td>\n",
              "      <td>592208493848895489</td>\n",
              "      <td>2015-04-26 06:08:02+00:00</td>\n",
              "      <td>None</td>\n",
              "      <td>None</td>\n",
              "    </tr>\n",
              "    <tr>\n",
              "      <th>993</th>\n",
              "      <td>India stands with Nepal in this hour of need s...</td>\n",
              "      <td>592200813734297600</td>\n",
              "      <td>2015-04-26 05:37:31+00:00</td>\n",
              "      <td>None</td>\n",
              "      <td>None</td>\n",
              "    </tr>\n",
              "    <tr>\n",
              "      <th>994</th>\n",
              "      <td>Nepal Quake-Biggest concern: how to focus on m...</td>\n",
              "      <td>592210236196294656</td>\n",
              "      <td>2015-04-26 06:14:57+00:00</td>\n",
              "      <td>None</td>\n",
              "      <td>None</td>\n",
              "    </tr>\n",
              "    <tr>\n",
              "      <th>995</th>\n",
              "      <td>India's aid to Nepal named #OperationMaitri wh...</td>\n",
              "      <td>592210437216686080</td>\n",
              "      <td>2015-04-26 06:15:45+00:00</td>\n",
              "      <td>None</td>\n",
              "      <td>None</td>\n",
              "    </tr>\n",
              "    <tr>\n",
              "      <th>996</th>\n",
              "      <td>#TimesOfIndia #TOI India's aid to Nepal named ...</td>\n",
              "      <td>592202480869646336</td>\n",
              "      <td>2015-04-26 05:44:08+00:00</td>\n",
              "      <td>None</td>\n",
              "      <td>None</td>\n",
              "    </tr>\n",
              "    <tr>\n",
              "      <th>997</th>\n",
              "      <td>3Novices:International aid groups rush to reac...</td>\n",
              "      <td>592200024450322433</td>\n",
              "      <td>2015-04-26 05:34:23+00:00</td>\n",
              "      <td>None</td>\n",
              "      <td>None</td>\n",
              "    </tr>\n",
              "    <tr>\n",
              "      <th>998</th>\n",
              "      <td>#SevaParmoDharm Sikh bodies to send #Langar 25...</td>\n",
              "      <td>592206288857108482</td>\n",
              "      <td>2015-04-26 05:59:16+00:00</td>\n",
              "      <td>None</td>\n",
              "      <td>None</td>\n",
              "    </tr>\n",
              "    <tr>\n",
              "      <th>999</th>\n",
              "      <td>Allah SWT please help people of Nepal, India a...</td>\n",
              "      <td>592199682517958657</td>\n",
              "      <td>2015-04-26 05:33:01+00:00</td>\n",
              "      <td>None</td>\n",
              "      <td>None</td>\n",
              "    </tr>\n",
              "  </tbody>\n",
              "</table>\n",
              "<p>1000 rows × 5 columns</p>\n",
              "</div>"
            ],
            "text/plain": [
              "                                                  text  ...          retweet_id\n",
              "0    RT @Economynext: #SriLanka to fly emergency me...  ...  591956338080485377\n",
              "1    India committed in aid to Nepal: President Pra...  ...                None\n",
              "2    RT @Thekkapoor: @narendramodi List of Doctor a...  ...  591908885553762304\n",
              "3    Quake wake-up call for govt, need better build...  ...                None\n",
              "4    #NepalEarthquake India sends 39 #NDRF team, 2 ...  ...                None\n",
              "5    \"@PMOIndia_RC: Indian Government is doing ever...  ...                None\n",
              "6    RT @ANI_news: We have to play a leading role t...  ...  591903440067891200\n",
              "7    RT @UNFPAasia: As emergency services step up i...  ...  591908722516983809\n",
              "8    1L water bottle by railways\\nLocal rates from ...  ...                None\n",
              "9    RT @BJPLucknowBJP: Agra Medical College Buildi...  ...  591970480967430144\n",
              "10   RT @iamamkay: need all out support @nytimes: N...  ...  591976140090134531\n",
              "11   RT @ WSJIndia: What India is doing to help Nep...  ...                None\n",
              "12   ·         Hospital, Fire Brigade and Blood Ban...  ...                None\n",
              "13   Nepal earthquake is sad for world. Hope medica...  ...                None\n",
              "14   RT @acharya14: Plz donate blood to Nearest #Re...  ...  591896695761346560\n",
              "15   Conspicuous silence of  #Presstitutes @sardesa...  ...                None\n",
              "16   RT @MaizaHameed: #Pakistan is with our #Nepali...  ...  591952614645833729\n",
              "17   RT @Abbi_Casey: If you want to help w #Nepal #...  ...  591902049937301504\n",
              "18   RT @TheQuint: PM Modi orders immediate dispatc...  ...  591921109664018432\n",
              "19   \"Ramdev's pandal collapses in Nepal. \"\\n\\nHe's...  ...                None\n",
              "20   Near by Student's should Stand and help to nep...  ...                None\n",
              "21   RT @dillidikudii: Whoever is in Delhi. Go dona...  ...  591872434795520000\n",
              "22   RT @tw_bhav: @suresh_ediga pl help. need names...  ...  591974951357255682\n",
              "23   RT @ShiwaniNeupane: The parking lot of Kathman...  ...  591951130520735744\n",
              "24   @BBCWorld @PlanGlobal Isn't this image one fro...  ...                None\n",
              "25   More than 1000 died in Nepal due to Earthquake...  ...                None\n",
              "26   Somewhere I sense an #AdarshLiberal will have ...  ...                None\n",
              "27   We need more help I call all BJP ally organisa...  ...                None\n",
              "28   @UNDPNepal Need to contact #Nepal to send relief.  ...                None\n",
              "29   It seems, almost entire Indian machinery frm p...  ...                None\n",
              "..                                                 ...  ...                 ...\n",
              "970  Drinking water plus emergency relief supplies ...  ...                None\n",
              "971  @cvoter Talking of vibration-shaking of swimmi...  ...                None\n",
              "972  India sends 'Rail Neer' water to earthquake-hi...  ...                None\n",
              "973  RT @allsish: outside Manipal Teaching Hospital...  ...  592140829747064832\n",
              "974  Use these tool to check your friends are safe ...  ...                None\n",
              "975  RT @ppariyar: i really appreciate and salute f...  ...  592048287689015297\n",
              "976  Scene at a govt hospital in Kanpur during #ear...  ...                None\n",
              "977  RT @gefairclough: After Nepal quake, injured e...  ...  592190592567812096\n",
              "978  #Nepal : glad to hear from more friends in #Ka...  ...                None\n",
              "979  Congratulatins to everyone at @MEAIndia!! Bril...  ...                None\n",
              "980  RT @Nawasilwal: Experience shows, Nepal need t...  ...  592184347882496001\n",
              "981  International rescuers, aid dispatched to Nepa...  ...                None\n",
              "982  @mashable please support and help Nepal in wha...  ...                None\n",
              "983  #indianarmy names aid mission in Nepal as \"Ope...  ...                None\n",
              "984  Thankful to\\n Massive help.....\\n\\nAustralian ...  ...                None\n",
              "985  @narendramodi @SushmaSwaraj Media,NGO who ever...  ...                None\n",
              "986  India's Aid to Nepal Named 'Operation Maitri' ...  ...                None\n",
              "987  International aid groups rush to reach Nepal e...  ...                None\n",
              "988  Delhi Sikh Gurdwara body to send Langar (food)...  ...                None\n",
              "989  RT MEAIndia: Earlier today: relief materials a...  ...                None\n",
              "990  RT @joglekarsachin: @SushmaSwaraj @MEAIndia ne...  ...  592181126635991040\n",
              "991  We need to know the situation in remote outlyi...  ...                None\n",
              "992  our Farmers need just Compensation; but surviv...  ...                None\n",
              "993  India stands with Nepal in this hour of need s...  ...                None\n",
              "994  Nepal Quake-Biggest concern: how to focus on m...  ...                None\n",
              "995  India's aid to Nepal named #OperationMaitri wh...  ...                None\n",
              "996  #TimesOfIndia #TOI India's aid to Nepal named ...  ...                None\n",
              "997  3Novices:International aid groups rush to reac...  ...                None\n",
              "998  #SevaParmoDharm Sikh bodies to send #Langar 25...  ...                None\n",
              "999  Allah SWT please help people of Nepal, India a...  ...                None\n",
              "\n",
              "[1000 rows x 5 columns]"
            ]
          },
          "metadata": {
            "tags": []
          },
          "execution_count": 17
        }
      ]
    },
    {
      "cell_type": "code",
      "metadata": {
        "id": "OeY4-GasM7af",
        "colab_type": "code",
        "outputId": "e2e70145-b72f-468a-c823-8d784d563cf2",
        "colab": {
          "base_uri": "https://localhost:8080/",
          "height": 170
        }
      },
      "source": [
        "tweets[:100].reply_id.value_counts()"
      ],
      "execution_count": 18,
      "outputs": [
        {
          "output_type": "execute_result",
          "data": {
            "text/plain": [
              "591975170904043520    3\n",
              "591978072573808640    1\n",
              "591973583519354880    1\n",
              "591986121086619648    1\n",
              "591964478926761984    1\n",
              "591979322166022144    1\n",
              "591973887040061441    1\n",
              "591982852780085248    1\n",
              "Name: reply_id, dtype: int64"
            ]
          },
          "metadata": {
            "tags": []
          },
          "execution_count": 18
        }
      ]
    },
    {
      "cell_type": "markdown",
      "metadata": {
        "id": "URvDDZGHKQqE",
        "colab_type": "text"
      },
      "source": [
        "# a) Two tweets will be connected by an undirected edge if one has been posted within t time interval of the other. You may vary t from 15 to 60 minutes."
      ]
    },
    {
      "cell_type": "code",
      "metadata": {
        "id": "7-lG-4MNdaih",
        "colab_type": "code",
        "outputId": "3ee11840-8723-4bcb-ebb0-d7d6acc3196c",
        "colab": {
          "base_uri": "https://localhost:8080/",
          "height": 204
        }
      },
      "source": [
        "tweet_graph = np.zeros((1000,1000))\n",
        "cnt = 0\n",
        "edges = 0\n",
        "for index1, row1 in tweets[:1000].iterrows(): \n",
        "#     node_list = []\n",
        "    cnt+=1\n",
        "    if cnt%100 == 0:\n",
        "        print(cnt)\n",
        "    \n",
        "    for index2, row2 in tweets[index1+1:1000].iterrows(): \n",
        "#         print(index1,index2)\n",
        "        minutes = (row2['Timestamp'] - row1['Timestamp'])/np.timedelta64(1,'m')\n",
        "#         duration_in_s = duration.total_seconds()\n",
        "#         minutes = divmod(duration_in_s, 60)[0]\n",
        "#         print(minutes)\n",
        "        if minutes >= 15 and minutes <= 60:\n",
        "            #node_list.append(index2)\n",
        "            tweet_graph[index1][index2] = 1\n",
        "            tweet_graph[index2][index1] = 1\n",
        "            edges += 2\n",
        "            \n",
        "            \n",
        "#         elif minutes > 60:\n",
        "#             break\n",
        "#     print(node_list)\n",
        "#     tweet_graph.append(node_list) \n",
        "   \n",
        "print(edges)"
      ],
      "execution_count": 19,
      "outputs": [
        {
          "output_type": "stream",
          "text": [
            "100\n",
            "200\n",
            "300\n",
            "400\n",
            "500\n",
            "600\n",
            "700\n",
            "800\n",
            "900\n",
            "1000\n",
            "94928\n"
          ],
          "name": "stdout"
        }
      ]
    },
    {
      "cell_type": "code",
      "metadata": {
        "id": "1jw61ahCuy2M",
        "colab_type": "code",
        "outputId": "9ad2eaa8-2c82-402c-c3d2-6e342ab333d6",
        "colab": {
          "base_uri": "https://localhost:8080/",
          "height": 34
        }
      },
      "source": [
        "G=nx.from_numpy_matrix(tweet_graph)\n",
        "print(f\"There are {G.number_of_nodes()} nodes and {G.number_of_edges()} edges present in the Graph\")"
      ],
      "execution_count": 20,
      "outputs": [
        {
          "output_type": "stream",
          "text": [
            "There are 1000 nodes and 47464 edges present in the Graph\n"
          ],
          "name": "stdout"
        }
      ]
    },
    {
      "cell_type": "markdown",
      "metadata": {
        "id": "Obt2qWzdzIsI",
        "colab_type": "text"
      },
      "source": [
        "## Degree Centrality"
      ]
    },
    {
      "cell_type": "code",
      "metadata": {
        "id": "LVibVB9wy_E2",
        "colab_type": "code",
        "outputId": "16a6215d-f8cd-4595-835c-9b085710e21d",
        "colab": {
          "base_uri": "https://localhost:8080/",
          "height": 85
        }
      },
      "source": [
        "degrees = [val for (node, val) in G.degree()]\n",
        "print(f\"The maximum degree of the Graph is {np.max(degrees)}\")   \n",
        "print(f\"The minimum degree of the Graph is {np.min(degrees)}\")\n",
        "print(f\"The average degree of the nodes in the Graph is {np.mean(degrees):.1f}\")  \n",
        "print(f\"The most frequent degree of the nodes found in the Graph is {stats.mode(degrees)[0][0]}\")"
      ],
      "execution_count": 21,
      "outputs": [
        {
          "output_type": "stream",
          "text": [
            "The maximum degree of the Graph is 172\n",
            "The minimum degree of the Graph is 9\n",
            "The average degree of the nodes in the Graph is 94.9\n",
            "The most frequent degree of the nodes found in the Graph is 31\n"
          ],
          "name": "stdout"
        }
      ]
    },
    {
      "cell_type": "code",
      "metadata": {
        "id": "6SAO_BvG0FFd",
        "colab_type": "code",
        "outputId": "8e5718a6-47d6-43e6-aa18-7e1bac22917a",
        "colab": {
          "base_uri": "https://localhost:8080/",
          "height": 68
        }
      },
      "source": [
        "if nx.is_connected(G):\n",
        "    print(\"The graph is connected\")\n",
        "else:\n",
        "    print(\"The graph is not connected\")\n",
        "\n",
        "print(f\"The average clustering coefficient of the graph is {nx.average_clustering(G)}\")\n",
        "print(f\"The transitivity of the the graph is {nx.transitivity(G)}\")"
      ],
      "execution_count": 22,
      "outputs": [
        {
          "output_type": "stream",
          "text": [
            "The graph is connected\n",
            "The average clustering coefficient of the graph is 0.2504393650281563\n",
            "The transitivity of the the graph is 0.25135920858650573\n"
          ],
          "name": "stdout"
        }
      ]
    },
    {
      "cell_type": "code",
      "metadata": {
        "id": "taTU0GW10p-5",
        "colab_type": "code",
        "outputId": "df8e950d-b1b7-4658-9de6-aab1064bf7c3",
        "colab": {
          "base_uri": "https://localhost:8080/",
          "height": 221
        }
      },
      "source": [
        "print(\"Top 10 Influencers of Network Based on Degree Centrality measure\\n \")\n",
        "degree_centrality = nx.degree_centrality(G)\n",
        "degree_centrality=sorted(degree_centrality.items(), key=operator.itemgetter(1)) \n",
        "nodes_degree=[]\n",
        "for i in range(1,11):\n",
        "    print(\"ID: %d, Degree Centrality Value : %f\"%(degree_centrality[-i][0], degree_centrality[-i][1]))\n",
        "    nodes_degree.append(degree_centrality[-i][0])"
      ],
      "execution_count": 23,
      "outputs": [
        {
          "output_type": "stream",
          "text": [
            "Top 10 Influencers of Network Based on Degree Centrality measure\n",
            " \n",
            "ID: 279, Degree Centrality Value : 0.172172\n",
            "ID: 269, Degree Centrality Value : 0.171171\n",
            "ID: 282, Degree Centrality Value : 0.169169\n",
            "ID: 272, Degree Centrality Value : 0.168168\n",
            "ID: 265, Degree Centrality Value : 0.168168\n",
            "ID: 458, Degree Centrality Value : 0.167167\n",
            "ID: 290, Degree Centrality Value : 0.166166\n",
            "ID: 259, Degree Centrality Value : 0.166166\n",
            "ID: 359, Degree Centrality Value : 0.165165\n",
            "ID: 293, Degree Centrality Value : 0.165165\n"
          ],
          "name": "stdout"
        }
      ]
    },
    {
      "cell_type": "markdown",
      "metadata": {
        "id": "hicquamH4Ky5",
        "colab_type": "text"
      },
      "source": [
        "## Closeness centrality"
      ]
    },
    {
      "cell_type": "code",
      "metadata": {
        "id": "RyzM_f534QTU",
        "colab_type": "code",
        "outputId": "6d87efc8-e74b-4795-8ca2-c5526d0d2234",
        "colab": {
          "base_uri": "https://localhost:8080/",
          "height": 221
        }
      },
      "source": [
        "print(\"Top 10 Influencers of Network Based on Closeness Centrality measure\\n \")\n",
        "closeness_centrality = nx.closeness_centrality(G)\n",
        "closeness_centrality=sorted(closeness_centrality.items(), key=operator.itemgetter(1)) \n",
        "nodes_closeness = []\n",
        "for i in range(1,11):\n",
        "    print(\"ID: %d, Closeness Centrality Value : %f\"%(closeness_centrality[-i][0], closeness_centrality[-i][1]))\n",
        "    nodes_closeness.append(closeness_centrality[-i][0])  "
      ],
      "execution_count": 24,
      "outputs": [
        {
          "output_type": "stream",
          "text": [
            "Top 10 Influencers of Network Based on Closeness Centrality measure\n",
            " \n",
            "ID: 524, Closeness Centrality Value : 0.205429\n",
            "ID: 520, Closeness Centrality Value : 0.205344\n",
            "ID: 534, Closeness Centrality Value : 0.205260\n",
            "ID: 531, Closeness Centrality Value : 0.205260\n",
            "ID: 515, Closeness Centrality Value : 0.205176\n",
            "ID: 512, Closeness Centrality Value : 0.205176\n",
            "ID: 466, Closeness Centrality Value : 0.205176\n",
            "ID: 510, Closeness Centrality Value : 0.205133\n",
            "ID: 538, Closeness Centrality Value : 0.204923\n",
            "ID: 499, Closeness Centrality Value : 0.204797\n"
          ],
          "name": "stdout"
        }
      ]
    },
    {
      "cell_type": "markdown",
      "metadata": {
        "colab_type": "text",
        "id": "PWV0jjVt41Fs"
      },
      "source": [
        "## Betweennes centrality"
      ]
    },
    {
      "cell_type": "code",
      "metadata": {
        "colab_type": "code",
        "outputId": "d558cd51-1f6b-4d86-d98e-9cab31b45ef1",
        "id": "a8sPL7PE41Fv",
        "colab": {
          "base_uri": "https://localhost:8080/",
          "height": 221
        }
      },
      "source": [
        "print(\"Top 10 Influencers of Network Based on Betweenness Centrality measure\\n \")\n",
        "betweenness_centrality = nx.betweenness_centrality(G)\n",
        "betweenness_centrality=sorted(betweenness_centrality.items(), key=operator.itemgetter(1)) \n",
        "nodes_betweenness = []\n",
        "for i in range(1,11):\n",
        "    print(\"ID: %d, Betweenness Centrality Value : %f\"%(betweenness_centrality[-i][0], betweenness_centrality[-i][1]))\n",
        "    nodes_betweenness.append(betweenness_centrality[-i][0])  "
      ],
      "execution_count": 25,
      "outputs": [
        {
          "output_type": "stream",
          "text": [
            "Top 10 Influencers of Network Based on Betweenness Centrality measure\n",
            " \n",
            "ID: 697, Betweenness Centrality Value : 0.171144\n",
            "ID: 690, Betweenness Centrality Value : 0.161051\n",
            "ID: 675, Betweenness Centrality Value : 0.158449\n",
            "ID: 672, Betweenness Centrality Value : 0.154396\n",
            "ID: 689, Betweenness Centrality Value : 0.116890\n",
            "ID: 679, Betweenness Centrality Value : 0.081663\n",
            "ID: 668, Betweenness Centrality Value : 0.072691\n",
            "ID: 647, Betweenness Centrality Value : 0.067903\n",
            "ID: 695, Betweenness Centrality Value : 0.063386\n",
            "ID: 696, Betweenness Centrality Value : 0.060739\n"
          ],
          "name": "stdout"
        }
      ]
    },
    {
      "cell_type": "markdown",
      "metadata": {
        "id": "o2GxhXI85tUA",
        "colab_type": "text"
      },
      "source": [
        "## Eigen vector Centrality"
      ]
    },
    {
      "cell_type": "code",
      "metadata": {
        "id": "NArL-80o5w9d",
        "colab_type": "code",
        "outputId": "e2e71662-4384-4f43-ee64-e5c49eb672c9",
        "colab": {
          "base_uri": "https://localhost:8080/",
          "height": 221
        }
      },
      "source": [
        "print(\"Top 10 Influencers of Network Based on Eigen vector Centrality measure\\n \")\n",
        "eigenvector_centrality = nx.eigenvector_centrality(G)\n",
        "eigenvector_centrality=sorted(eigenvector_centrality.items(), key=operator.itemgetter(1)) \n",
        "nodes_eigen=[]\n",
        "for i in range(1,11):\n",
        "    print(\"ID: %d, Eigen vector Centrality Value : %f\"%(eigenvector_centrality[-i][0], eigenvector_centrality[-i][1]))\n",
        "    nodes_eigen.append(eigenvector_centrality[-i][0])  "
      ],
      "execution_count": 26,
      "outputs": [
        {
          "output_type": "stream",
          "text": [
            "Top 10 Influencers of Network Based on Eigen vector Centrality measure\n",
            " \n",
            "ID: 279, Eigen vector Centrality Value : 0.067326\n",
            "ID: 269, Eigen vector Centrality Value : 0.066701\n",
            "ID: 282, Eigen vector Centrality Value : 0.066060\n",
            "ID: 265, Eigen vector Centrality Value : 0.065558\n",
            "ID: 259, Eigen vector Centrality Value : 0.065019\n",
            "ID: 286, Eigen vector Centrality Value : 0.064919\n",
            "ID: 272, Eigen vector Centrality Value : 0.064851\n",
            "ID: 290, Eigen vector Centrality Value : 0.064519\n",
            "ID: 281, Eigen vector Centrality Value : 0.064512\n",
            "ID: 263, Eigen vector Centrality Value : 0.064404\n"
          ],
          "name": "stdout"
        }
      ]
    },
    {
      "cell_type": "markdown",
      "metadata": {
        "colab_type": "text",
        "id": "TSVmgE0E7j8r"
      },
      "source": [
        "## Katz Centrality"
      ]
    },
    {
      "cell_type": "code",
      "metadata": {
        "colab_type": "code",
        "id": "9RgUwvC97j8x",
        "colab": {
          "base_uri": "https://localhost:8080/",
          "height": 221
        },
        "outputId": "189f1452-ccc9-4f0f-9cc1-beb591bbc0a0"
      },
      "source": [
        "print(\"Top 10 Influencers of Network Based on Katz Centrality measure\\n \")\n",
        "katz_centrality = nx.katz_centrality(G,1/135.225 - 0.01)\n",
        "katz_centrality=sorted(katz_centrality.items(), key=operator.itemgetter(1)) \n",
        "nodes_katz = []\n",
        "for i in range(1,11):\n",
        "    print(\"ID: %d, Katz Centrality Value : %f\"%(katz_centrality[-i][0], katz_centrality[-i][1]))\n",
        "    nodes_katz.append(katz_centrality[-i][0])  "
      ],
      "execution_count": 28,
      "outputs": [
        {
          "output_type": "stream",
          "text": [
            "Top 10 Influencers of Network Based on Katz Centrality measure\n",
            " \n",
            "ID: 667, Katz Centrality Value : 0.038006\n",
            "ID: 690, Katz Centrality Value : 0.037813\n",
            "ID: 676, Katz Centrality Value : 0.037811\n",
            "ID: 652, Katz Centrality Value : 0.037722\n",
            "ID: 708, Katz Centrality Value : 0.037713\n",
            "ID: 713, Katz Centrality Value : 0.037707\n",
            "ID: 722, Katz Centrality Value : 0.037616\n",
            "ID: 657, Katz Centrality Value : 0.037613\n",
            "ID: 711, Katz Centrality Value : 0.037612\n",
            "ID: 639, Katz Centrality Value : 0.037523\n"
          ],
          "name": "stdout"
        }
      ]
    },
    {
      "cell_type": "markdown",
      "metadata": {
        "id": "sbMsRCDWKq8l",
        "colab_type": "text"
      },
      "source": [
        "## Overlapping nodes based on the top 10 centrality values"
      ]
    },
    {
      "cell_type": "code",
      "metadata": {
        "id": "oUPRx5QdHxjl",
        "colab_type": "code",
        "outputId": "73aeb795-5960-427d-b7a0-d72039845042",
        "colab": {
          "base_uri": "https://localhost:8080/",
          "height": 547
        }
      },
      "source": [
        "methods = ['Degree centrality','Closeness centrality','Betweennes centrality','Eigen vector Centrality','Katz centrality']\n",
        "arr = []\n",
        "arr.append(nodes_degree)\n",
        "arr.append(nodes_closeness)\n",
        "arr.append(nodes_betweenness)\n",
        "arr.append(nodes_eigen)\n",
        "arr.append(nodes_katz)\n",
        "for i in range(0,5):\n",
        "    for j in range(i+1,5):\n",
        "        print(\"The Common Nodes between\",methods[i],\"and\",methods[j],set(arr[i]).intersection(arr[j]))\n",
        "        print(\"No of nodes common between\",methods[i],\"and\",methods[j],'are',str(len(set(arr[i]).intersection(arr[j]))),'\\n')"
      ],
      "execution_count": 30,
      "outputs": [
        {
          "output_type": "stream",
          "text": [
            "The Common Nodes between Degree centrality and Closeness centrality set()\n",
            "No of nodes common between Degree centrality and Closeness centrality are 0 \n",
            "\n",
            "The Common Nodes between Degree centrality and Betweennes centrality set()\n",
            "No of nodes common between Degree centrality and Betweennes centrality are 0 \n",
            "\n",
            "The Common Nodes between Degree centrality and Eigen vector Centrality {290, 259, 265, 269, 272, 279, 282}\n",
            "No of nodes common between Degree centrality and Eigen vector Centrality are 7 \n",
            "\n",
            "The Common Nodes between Degree centrality and Katz centrality set()\n",
            "No of nodes common between Degree centrality and Katz centrality are 0 \n",
            "\n",
            "The Common Nodes between Closeness centrality and Betweennes centrality set()\n",
            "No of nodes common between Closeness centrality and Betweennes centrality are 0 \n",
            "\n",
            "The Common Nodes between Closeness centrality and Eigen vector Centrality set()\n",
            "No of nodes common between Closeness centrality and Eigen vector Centrality are 0 \n",
            "\n",
            "The Common Nodes between Closeness centrality and Katz centrality set()\n",
            "No of nodes common between Closeness centrality and Katz centrality are 0 \n",
            "\n",
            "The Common Nodes between Betweennes centrality and Eigen vector Centrality set()\n",
            "No of nodes common between Betweennes centrality and Eigen vector Centrality are 0 \n",
            "\n",
            "The Common Nodes between Betweennes centrality and Katz centrality {690}\n",
            "No of nodes common between Betweennes centrality and Katz centrality are 1 \n",
            "\n",
            "The Common Nodes between Eigen vector Centrality and Katz centrality set()\n",
            "No of nodes common between Eigen vector Centrality and Katz centrality are 0 \n",
            "\n"
          ],
          "name": "stdout"
        }
      ]
    },
    {
      "cell_type": "markdown",
      "metadata": {
        "id": "o9yEaz6DKzl2",
        "colab_type": "text"
      },
      "source": [
        "# b) Edge between two tweets, if the cosine similarity between two tweet is greater than some threshold (assume 0.65), where the cosine similarity is calculated based on the similarity of the text vectors (after removing stopwords, punctuation, URLs and numbers), or one of them is a reply or retweet of the other"
      ]
    },
    {
      "cell_type": "code",
      "metadata": {
        "id": "5C2CsI0gMCjQ",
        "colab_type": "code",
        "colab": {}
      },
      "source": [
        "def stop_words(table):\n",
        "    #We need to remove the stop words\n",
        "    stop_words_list = stopwords.words('english')\n",
        "    table['text'] = table['text'].str.lower()\n",
        "    table['text'] = table['text'].apply(lambda x: ' '.join([word for word in x.split() if word not in (stop_words_list)]))\n",
        "    return table\n",
        "def preprocessing_text(table):\n",
        "    #put everythin in lowercase\n",
        "    table['text'] = table['text'].str.lower()\n",
        "    #Replace rt indicating that was a retweet\n",
        "#     table['text'] = table['text'].str.replace('rt', '')\n",
        "    #Replace occurences of mentioning @UserNames\n",
        "    table['text'] = table['text'].replace(r'@\\w+', '', regex=True)\n",
        "    #Replace links contained in the tweet\n",
        "    table['text'] = table['text'].replace(r'http\\S+', '', regex=True)\n",
        "    table['text'] = table['text'].replace(r'www.[^ ]+', '', regex=True)\n",
        "    #remove numbers\n",
        "    table['text'] = table['text'].replace(r'[0-9]+', '', regex=True)\n",
        "    #replace special characters and puntuation marks\n",
        "    table['text'] = table['text'].replace(r'[!\"#$%&()*+,-./:;<=>?@[\\]^_`{|}~]', '', regex=True)\n",
        "    return table\n",
        "tweets = preprocessing_text(tweets)\n",
        "tweets = stop_words(tweets)"
      ],
      "execution_count": 0,
      "outputs": []
    },
    {
      "cell_type": "code",
      "metadata": {
        "id": "YuxDlndhOL7h",
        "colab_type": "code",
        "outputId": "96556bc6-863a-41a4-8b5a-030436450358",
        "colab": {
          "base_uri": "https://localhost:8080/",
          "height": 153
        }
      },
      "source": [
        "tweets.text[0]\n",
        "print(tweets.head(5))"
      ],
      "execution_count": 19,
      "outputs": [
        {
          "output_type": "stream",
          "text": [
            "                                                text  ...          retweet_id\n",
            "0  rt srilanka fly emergency medical help food ea...  ...  591956338080485377\n",
            "1  india committed aid nepal president pranab muk...  ...                None\n",
            "2           rt list doctor hospital earthquake nepal  ...  591908885553762304\n",
            "3  quake wakeup call govt need better building te...  ...                None\n",
            "4  nepalearthquake india sends ndrf team dogs ton...  ...                None\n",
            "\n",
            "[5 rows x 5 columns]\n"
          ],
          "name": "stdout"
        }
      ]
    },
    {
      "cell_type": "code",
      "metadata": {
        "id": "Pnvf5vF4ai9u",
        "colab_type": "code",
        "colab": {}
      },
      "source": [
        "lst1 = []\n",
        "lst2 = []\n",
        "for index,row in tweets.iterrows():\n",
        "#     lst1.append(row['id'])\n",
        "    if row['retweet_id'] is not None:\n",
        "        p = int(tweets.id[tweets.id == row['retweet_id']].index[0]) if len(tweets.id[tweets.id == row['retweet_id']]) > 0 else -1 \n",
        "        lst1.append(p)\n",
        "    else:\n",
        "        lst1.append(-1)\n",
        "\n",
        "            \n",
        "    if row['reply_id'] is not None:\n",
        "        p = int(tweets.id[tweets.id == row['reply_id']].index[0]) if len(tweets.id[tweets.id == row['reply_id']]) > 0 else -1 \n",
        "        lst2.append(p)\n",
        "    else:\n",
        "        lst2.append(-1)\n",
        "\n",
        "# print(set(lst1).intersection(lst2))\n",
        "# print(lst1,lst2)\n"
      ],
      "execution_count": 0,
      "outputs": []
    },
    {
      "cell_type": "code",
      "metadata": {
        "id": "dvFmEiMEgB8A",
        "colab_type": "code",
        "colab": {}
      },
      "source": [
        "tweets.retweet_id = lst1\n",
        "tweets.reply_id = lst2"
      ],
      "execution_count": 0,
      "outputs": []
    },
    {
      "cell_type": "code",
      "metadata": {
        "id": "3XNel2hRheWB",
        "colab_type": "code",
        "colab": {
          "base_uri": "https://localhost:8080/",
          "height": 204
        },
        "outputId": "b45dbba8-0359-40ad-f06f-a69e58614a55"
      },
      "source": [
        "tweet_graph = np.zeros((1000,1000))\n",
        "cnt = 0\n",
        "edges = 0\n",
        "for index1, row1 in tweets[:1000].iterrows(): \n",
        "    cnt+=1\n",
        "    if cnt%100 == 0:\n",
        "        print(cnt)\n",
        "    doc1 = nlp(row1['text'])\n",
        "    if row1['retweet_id'] != -1:\n",
        "            tweet_graph[row1['retweet_id']][index1] = 1\n",
        "            edges += 1\n",
        "    if row1['reply_id'] != -1:\n",
        "            tweet_graph[row1['reply_id']][index1] = 1\n",
        "            edges += 1\n",
        "    for index2, row2 in tweets[index1+1:1000].iterrows(): \n",
        "            \n",
        "        doc2 = nlp(row2['text'])\n",
        "        if doc1.similarity(doc2) > 0.65:\n",
        "            tweet_graph[index1][index2] = 1\n",
        "            tweet_graph[index2][index1] = 1\n",
        "            edges += 2\n",
        "        \n",
        "print(edges)"
      ],
      "execution_count": 22,
      "outputs": [
        {
          "output_type": "stream",
          "text": [
            "100\n",
            "200\n",
            "300\n",
            "400\n",
            "500\n",
            "600\n",
            "700\n",
            "800\n",
            "900\n",
            "1000\n",
            "806030\n"
          ],
          "name": "stdout"
        }
      ]
    },
    {
      "cell_type": "code",
      "metadata": {
        "id": "tgM2Jtpm2pet",
        "colab_type": "code",
        "colab": {}
      },
      "source": [
        "np.save('drive/My Drive/CS544/part-2.npy',tweet_graph)"
      ],
      "execution_count": 0,
      "outputs": []
    },
    {
      "cell_type": "code",
      "metadata": {
        "colab_type": "code",
        "outputId": "5af9e773-a1db-4387-d72c-73d1aa297a19",
        "id": "qCrgcXl9rTQ6",
        "colab": {
          "base_uri": "https://localhost:8080/",
          "height": 34
        }
      },
      "source": [
        "tweet_graph = np.load('drive/My Drive/CS544/part-2.npy')\n",
        "G=nx.from_numpy_matrix(tweet_graph)\n",
        "print(f\"There are {G.number_of_nodes()} nodes and {G.number_of_edges()} edges present in the Graph\")"
      ],
      "execution_count": 3,
      "outputs": [
        {
          "output_type": "stream",
          "text": [
            "There are 1000 nodes and 403014 edges present in the Graph\n"
          ],
          "name": "stdout"
        }
      ]
    },
    {
      "cell_type": "markdown",
      "metadata": {
        "colab_type": "text",
        "id": "5OZ4j5mHrTRP"
      },
      "source": [
        "## Degree Centrality"
      ]
    },
    {
      "cell_type": "code",
      "metadata": {
        "colab_type": "code",
        "outputId": "24d9dfa4-2427-4dc1-c181-f795277fda2d",
        "id": "TrW333j4rTRQ",
        "colab": {
          "base_uri": "https://localhost:8080/",
          "height": 85
        }
      },
      "source": [
        "degrees = [val for (node, val) in G.degree()]\n",
        "print(f\"The maximum degree of the Graph is {np.max(degrees)}\")   \n",
        "print(f\"The minimum degree of the Graph is {np.min(degrees)}\")\n",
        "print(f\"The average degree of the nodes in the Graph is {np.mean(degrees):.1f}\")  \n",
        "print(f\"The most frequent degree of the nodes found in the Graph is {stats.mode(degrees)[0][0]}\")"
      ],
      "execution_count": 5,
      "outputs": [
        {
          "output_type": "stream",
          "text": [
            "The maximum degree of the Graph is 979\n",
            "The minimum degree of the Graph is 13\n",
            "The average degree of the nodes in the Graph is 806.0\n",
            "The most frequent degree of the nodes found in the Graph is 930\n"
          ],
          "name": "stdout"
        }
      ]
    },
    {
      "cell_type": "code",
      "metadata": {
        "colab_type": "code",
        "outputId": "8b7709ec-8ddf-43f2-c277-ae85f498d19d",
        "id": "QwXg10sDrTRU",
        "colab": {
          "base_uri": "https://localhost:8080/",
          "height": 68
        }
      },
      "source": [
        "if nx.is_connected(G):\n",
        "    print(\"The graph is connected\")\n",
        "else:\n",
        "    print(\"The graph is not connected\")\n",
        "\n",
        "print(f\"The average clustering coefficient of the graph is {nx.average_clustering(G)}\")\n",
        "print(f\"The transitivity of the the graph is {nx.transitivity(G)}\")"
      ],
      "execution_count": 6,
      "outputs": [
        {
          "output_type": "stream",
          "text": [
            "The graph is connected\n",
            "The average clustering coefficient of the graph is 0.8994451878350088\n",
            "The transitivity of the the graph is 0.8895863615158284\n"
          ],
          "name": "stdout"
        }
      ]
    },
    {
      "cell_type": "code",
      "metadata": {
        "colab_type": "code",
        "outputId": "3ff157e1-ccbe-4eb5-b8d3-af7502beace3",
        "id": "wO-GbwfqrTRZ",
        "colab": {
          "base_uri": "https://localhost:8080/",
          "height": 221
        }
      },
      "source": [
        "print(\"Top 10 Influencers of Network Based on Degree Centrality measure\\n \")\n",
        "degree_centrality = nx.degree_centrality(G)\n",
        "degree_centrality=sorted(degree_centrality.items(), key=operator.itemgetter(1)) \n",
        "nodes_degree=[]\n",
        "for i in range(1,11):\n",
        "    print(\"ID: %d, Degree Centrality Value : %f\"%(degree_centrality[-i][0], degree_centrality[-i][1]))\n",
        "    nodes_degree.append(degree_centrality[-i][0])"
      ],
      "execution_count": 7,
      "outputs": [
        {
          "output_type": "stream",
          "text": [
            "Top 10 Influencers of Network Based on Degree Centrality measure\n",
            " \n",
            "ID: 816, Degree Centrality Value : 0.979980\n",
            "ID: 703, Degree Centrality Value : 0.979980\n",
            "ID: 691, Degree Centrality Value : 0.975976\n",
            "ID: 308, Degree Centrality Value : 0.974975\n",
            "ID: 780, Degree Centrality Value : 0.973974\n",
            "ID: 854, Degree Centrality Value : 0.971972\n",
            "ID: 178, Degree Centrality Value : 0.970971\n",
            "ID: 945, Degree Centrality Value : 0.969970\n",
            "ID: 873, Degree Centrality Value : 0.969970\n",
            "ID: 100, Degree Centrality Value : 0.969970\n"
          ],
          "name": "stdout"
        }
      ]
    },
    {
      "cell_type": "markdown",
      "metadata": {
        "colab_type": "text",
        "id": "pHYdptLKrTRc"
      },
      "source": [
        "## Closeness centrality"
      ]
    },
    {
      "cell_type": "code",
      "metadata": {
        "colab_type": "code",
        "outputId": "a50e6062-ec89-44be-815a-14a9dcca643c",
        "id": "_IAqFZN1rTRd",
        "colab": {
          "base_uri": "https://localhost:8080/",
          "height": 221
        }
      },
      "source": [
        "print(\"Top 10 Influencers of Network Based on Closeness Centrality measure\\n \")\n",
        "closeness_centrality = nx.closeness_centrality(G)\n",
        "closeness_centrality=sorted(closeness_centrality.items(), key=operator.itemgetter(1)) \n",
        "nodes_closeness = []\n",
        "for i in range(1,11):\n",
        "    print(\"ID: %d, Closeness Centrality Value : %f\"%(closeness_centrality[-i][0], closeness_centrality[-i][1]))\n",
        "    nodes_closeness.append(closeness_centrality[-i][0])  "
      ],
      "execution_count": 8,
      "outputs": [
        {
          "output_type": "stream",
          "text": [
            "Top 10 Influencers of Network Based on Closeness Centrality measure\n",
            " \n",
            "ID: 816, Closeness Centrality Value : 0.980373\n",
            "ID: 703, Closeness Centrality Value : 0.980373\n",
            "ID: 691, Closeness Centrality Value : 0.976540\n",
            "ID: 308, Closeness Centrality Value : 0.975586\n",
            "ID: 780, Closeness Centrality Value : 0.974634\n",
            "ID: 854, Closeness Centrality Value : 0.972736\n",
            "ID: 178, Closeness Centrality Value : 0.971790\n",
            "ID: 945, Closeness Centrality Value : 0.970845\n",
            "ID: 873, Closeness Centrality Value : 0.970845\n",
            "ID: 100, Closeness Centrality Value : 0.970845\n"
          ],
          "name": "stdout"
        }
      ]
    },
    {
      "cell_type": "markdown",
      "metadata": {
        "colab_type": "text",
        "id": "rpm063lkrTRh"
      },
      "source": [
        "## Betweennes centrality"
      ]
    },
    {
      "cell_type": "code",
      "metadata": {
        "colab_type": "code",
        "outputId": "ba95f84d-ab83-4473-c58d-7618b131020d",
        "id": "84wt2s_qrTRi",
        "colab": {
          "base_uri": "https://localhost:8080/",
          "height": 221
        }
      },
      "source": [
        "print(\"Top 10 Influencers of Network Based on Betweenness Centrality measure\\n \")\n",
        "betweenness_centrality = nx.betweenness_centrality(G)\n",
        "betweenness_centrality=sorted(betweenness_centrality.items(), key=operator.itemgetter(1)) \n",
        "nodes_betweenness = []\n",
        "for i in range(1,11):\n",
        "    print(\"ID: %d, Betweenness Centrality Value : %f\"%(betweenness_centrality[-i][0], betweenness_centrality[-i][1]))\n",
        "    nodes_betweenness.append(betweenness_centrality[-i][0])  "
      ],
      "execution_count": 9,
      "outputs": [
        {
          "output_type": "stream",
          "text": [
            "Top 10 Influencers of Network Based on Betweenness Centrality measure\n",
            " \n",
            "ID: 2, Betweenness Centrality Value : 0.000616\n",
            "ID: 343, Betweenness Centrality Value : 0.000599\n",
            "ID: 816, Betweenness Centrality Value : 0.000553\n",
            "ID: 691, Betweenness Centrality Value : 0.000550\n",
            "ID: 172, Betweenness Centrality Value : 0.000475\n",
            "ID: 308, Betweenness Centrality Value : 0.000472\n",
            "ID: 839, Betweenness Centrality Value : 0.000468\n",
            "ID: 854, Betweenness Centrality Value : 0.000465\n",
            "ID: 685, Betweenness Centrality Value : 0.000458\n",
            "ID: 339, Betweenness Centrality Value : 0.000448\n"
          ],
          "name": "stdout"
        }
      ]
    },
    {
      "cell_type": "markdown",
      "metadata": {
        "colab_type": "text",
        "id": "8eI5li5lrTRl"
      },
      "source": [
        "## Eigen vector Centrality"
      ]
    },
    {
      "cell_type": "code",
      "metadata": {
        "colab_type": "code",
        "outputId": "5db336ec-6d60-4969-9e4f-e28e57b9abc5",
        "id": "g9hfDpLbrTRn",
        "colab": {
          "base_uri": "https://localhost:8080/",
          "height": 221
        }
      },
      "source": [
        "print(\"Top 10 Influencers of Network Based on Eigen vector Centrality measure\\n \")\n",
        "eigenvector_centrality = nx.eigenvector_centrality(G)\n",
        "eigenvector_centrality=sorted(eigenvector_centrality.items(), key=operator.itemgetter(1)) \n",
        "nodes_eigen=[]\n",
        "for i in range(1,11):\n",
        "    print(\"ID: %d, Eigen vector Centrality Value : %f\"%(eigenvector_centrality[-i][0], eigenvector_centrality[-i][1]))\n",
        "    nodes_eigen.append(eigenvector_centrality[-i][0])  "
      ],
      "execution_count": 10,
      "outputs": [
        {
          "output_type": "stream",
          "text": [
            "Top 10 Influencers of Network Based on Eigen vector Centrality measure\n",
            " \n",
            "ID: 703, Eigen vector Centrality Value : 0.036424\n",
            "ID: 816, Eigen vector Centrality Value : 0.036351\n",
            "ID: 873, Eigen vector Centrality Value : 0.036290\n",
            "ID: 308, Eigen vector Centrality Value : 0.036289\n",
            "ID: 780, Eigen vector Centrality Value : 0.036282\n",
            "ID: 691, Eigen vector Centrality Value : 0.036251\n",
            "ID: 126, Eigen vector Centrality Value : 0.036249\n",
            "ID: 178, Eigen vector Centrality Value : 0.036248\n",
            "ID: 299, Eigen vector Centrality Value : 0.036244\n",
            "ID: 707, Eigen vector Centrality Value : 0.036230\n"
          ],
          "name": "stdout"
        }
      ]
    },
    {
      "cell_type": "markdown",
      "metadata": {
        "colab_type": "text",
        "id": "wjD7DXimrTRv"
      },
      "source": [
        "## Katz Centrality"
      ]
    },
    {
      "cell_type": "code",
      "metadata": {
        "id": "JDz6OgUDTpcE",
        "colab_type": "code",
        "colab": {
          "base_uri": "https://localhost:8080/",
          "height": 34
        },
        "outputId": "42251dc0-a6cb-45f2-c63e-5fade532c32b"
      },
      "source": [
        "from numpy import linalg as LA\n",
        "e_val,e_vec = LA.eig(tweet_graph)\n",
        "print(max(e_val))"
      ],
      "execution_count": 4,
      "outputs": [
        {
          "output_type": "stream",
          "text": [
            "(844.8771076351193+0j)\n"
          ],
          "name": "stdout"
        }
      ]
    },
    {
      "cell_type": "code",
      "metadata": {
        "colab_type": "code",
        "id": "EpfHuc49rTRw",
        "colab": {}
      },
      "source": [
        "print(\"Top 10 Influencers of Network Based on Katz Centrality measure\\n \")\n",
        "katz_centrality = nx.katz_centrality(G,1/844.877 - 0.01)\n",
        "katz_centrality=sorted(katz_centrality.items(), key=operator.itemgetter(1)) \n",
        "nodes_katz = []\n",
        "for i in range(1,11):\n",
        "    print(\"ID: %d, Eigen vector Centrality Value : %f\"%(katz_centrality[-i][0], katz_centrality[-i][1]))\n",
        "    nodes_katz.append(katz_centrality[-i][0])  "
      ],
      "execution_count": 0,
      "outputs": []
    },
    {
      "cell_type": "markdown",
      "metadata": {
        "colab_type": "text",
        "id": "AxeMemwdrTRz"
      },
      "source": [
        "## Overlapping nodes based on the top 10 centrality values"
      ]
    },
    {
      "cell_type": "code",
      "metadata": {
        "colab_type": "code",
        "outputId": "147a0f2a-add2-48fe-e8f1-ce81ca18193c",
        "id": "fsaTzxqarTR0",
        "colab": {
          "base_uri": "https://localhost:8080/",
          "height": 343
        }
      },
      "source": [
        "methods = ['Degree centrality','Closeness centrality','Betweennes centrality','Eigen vector Centrality']\n",
        "arr = []\n",
        "arr.append(nodes_degree)\n",
        "arr.append(nodes_closeness)\n",
        "arr.append(nodes_betweenness)\n",
        "arr.append(nodes_eigen)\n",
        "\n",
        "for i in range(0,4):\n",
        "    for j in range(i+1,4):\n",
        "        print(\"The Common Nodes between\",methods[i],\"and\",methods[j],set(arr[i]).intersection(arr[j]))\n",
        "        print(\"No of nodes common between\",methods[i],\"and\",methods[j],'are',str(len(set(arr[i]).intersection(arr[j]))),'\\n')"
      ],
      "execution_count": 11,
      "outputs": [
        {
          "output_type": "stream",
          "text": [
            "The Common Nodes between Degree centrality and Closeness centrality {100, 873, 780, 816, 945, 178, 691, 308, 854, 703}\n",
            "No of nodes common between Degree centrality and Closeness centrality are 10 \n",
            "\n",
            "The Common Nodes between Degree centrality and Betweennes centrality {816, 691, 308, 854}\n",
            "No of nodes common between Degree centrality and Betweennes centrality are 4 \n",
            "\n",
            "The Common Nodes between Degree centrality and Eigen vector Centrality {873, 780, 816, 178, 691, 308, 703}\n",
            "No of nodes common between Degree centrality and Eigen vector Centrality are 7 \n",
            "\n",
            "The Common Nodes between Closeness centrality and Betweennes centrality {816, 691, 308, 854}\n",
            "No of nodes common between Closeness centrality and Betweennes centrality are 4 \n",
            "\n",
            "The Common Nodes between Closeness centrality and Eigen vector Centrality {873, 780, 816, 178, 691, 308, 703}\n",
            "No of nodes common between Closeness centrality and Eigen vector Centrality are 7 \n",
            "\n",
            "The Common Nodes between Betweennes centrality and Eigen vector Centrality {816, 691, 308}\n",
            "No of nodes common between Betweennes centrality and Eigen vector Centrality are 3 \n",
            "\n"
          ],
          "name": "stdout"
        }
      ]
    },
    {
      "cell_type": "code",
      "metadata": {
        "id": "Am5Dy5ckq4oq",
        "colab_type": "code",
        "colab": {}
      },
      "source": [
        "# import spacy\n",
        "# nlp = spacy.load('en_core_web_md')\n",
        " \n",
        "# doc1 = nlp(u'Hello this is document similarity calculation')\n",
        "# doc2 = nlp(u'Hello this is python similarity calculation')\n",
        "# doc3 = nlp(u'Hi there')\n",
        " \n",
        "# print (doc1.similarity(doc2)) \n",
        "# print (doc2.similarity(doc3)) \n",
        "# print (doc1.similarity(doc3)) "
      ],
      "execution_count": 0,
      "outputs": []
    }
  ]
}
